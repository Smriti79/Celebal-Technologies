{
  "nbformat": 4,
  "nbformat_minor": 0,
  "metadata": {
    "colab": {
      "provenance": [],
      "authorship_tag": "ABX9TyNy7GTF/pFL/3RQwbXfroP+",
      "include_colab_link": true
    },
    "kernelspec": {
      "name": "python3",
      "display_name": "Python 3"
    },
    "language_info": {
      "name": "python"
    }
  },
  "cells": [
    {
      "cell_type": "markdown",
      "metadata": {
        "id": "view-in-github",
        "colab_type": "text"
      },
      "source": [
        "<a href=\"https://colab.research.google.com/github/Smriti79/Celebal-Technologies/blob/main/AssignmentSeven.ipynb\" target=\"_parent\"><img src=\"https://colab.research.google.com/assets/colab-badge.svg\" alt=\"Open In Colab\"/></a>"
      ]
    },
    {
      "cell_type": "code",
      "execution_count": 1,
      "metadata": {
        "colab": {
          "base_uri": "https://localhost:8080/"
        },
        "id": "64p4CHcG1V_Y",
        "outputId": "e7e3f2a1-77b2-43a1-fc20-6fe771474513"
      },
      "outputs": [
        {
          "output_type": "stream",
          "name": "stdout",
          "text": [
            "\u001b[2K     \u001b[90m━━━━━━━━━━━━━━━━━━━━━━━━━━━━━━━━━━━━━━━━\u001b[0m \u001b[32m44.3/44.3 kB\u001b[0m \u001b[31m1.9 MB/s\u001b[0m eta \u001b[36m0:00:00\u001b[0m\n",
            "\u001b[2K   \u001b[90m━━━━━━━━━━━━━━━━━━━━━━━━━━━━━━━━━━━━━━━━\u001b[0m \u001b[32m9.9/9.9 MB\u001b[0m \u001b[31m66.4 MB/s\u001b[0m eta \u001b[36m0:00:00\u001b[0m\n",
            "\u001b[2K   \u001b[90m━━━━━━━━━━━━━━━━━━━━━━━━━━━━━━━━━━━━━━━━\u001b[0m \u001b[32m6.9/6.9 MB\u001b[0m \u001b[31m60.8 MB/s\u001b[0m eta \u001b[36m0:00:00\u001b[0m\n",
            "\u001b[2K   \u001b[90m━━━━━━━━━━━━━━━━━━━━━━━━━━━━━━━━━━━━━━━━\u001b[0m \u001b[32m79.1/79.1 kB\u001b[0m \u001b[31m6.7 MB/s\u001b[0m eta \u001b[36m0:00:00\u001b[0m\n",
            "\u001b[?25h"
          ]
        }
      ],
      "source": [
        "!pip install -q streamlit pyngrok scikit-learn pandas\n"
      ]
    },
    {
      "cell_type": "code",
      "source": [
        "# Train and save a RandomForest model\n",
        "import pandas as pd\n",
        "from sklearn.datasets import load_iris\n",
        "from sklearn.ensemble import RandomForestClassifier\n",
        "import pickle\n",
        "\n",
        "# Load dataset\n",
        "iris = load_iris()\n",
        "X = pd.DataFrame(iris.data, columns=iris.feature_names)\n",
        "y = iris.target\n",
        "\n",
        "# Train model\n",
        "model = RandomForestClassifier()\n",
        "model.fit(X, y)\n",
        "\n",
        "# Save the model\n",
        "with open(\"rf_model.pkl\", \"wb\") as f:\n",
        "    pickle.dump(model, f)\n"
      ],
      "metadata": {
        "id": "fmIFxVyM1rD7"
      },
      "execution_count": 2,
      "outputs": []
    },
    {
      "cell_type": "code",
      "source": [
        "%%writefile app.py\n",
        "import streamlit as st\n",
        "import pandas as pd\n",
        "import pickle\n",
        "import matplotlib.pyplot as plt\n",
        "\n",
        "# Load model\n",
        "with open(\"rf_model.pkl\", \"rb\") as f:\n",
        "    model = pickle.load(f)\n",
        "\n",
        "st.title(\"🌸 Iris Species Predictor\")\n",
        "\n",
        "st.write(\"\"\"\n",
        "Enter flower measurements and the model will predict the Iris species.\n",
        "\"\"\")\n",
        "\n",
        "# User input sliders\n",
        "sepal_length = st.slider(\"Sepal Length (cm)\", 4.0, 8.0, 5.8)\n",
        "sepal_width = st.slider(\"Sepal Width (cm)\", 2.0, 4.5, 3.0)\n",
        "petal_length = st.slider(\"Petal Length (cm)\", 1.0, 7.0, 4.3)\n",
        "petal_width = st.slider(\"Petal Width (cm)\", 0.1, 2.5, 1.3)\n",
        "\n",
        "# Prepare input\n",
        "input_df = pd.DataFrame([[sepal_length, sepal_width, petal_length, petal_width]],\n",
        "                        columns=['sepal length (cm)', 'sepal width (cm)',\n",
        "                                 'petal length (cm)', 'petal width (cm)'])\n",
        "\n",
        "# Make prediction\n",
        "prediction = model.predict(input_df)[0]\n",
        "prediction_proba = model.predict_proba(input_df)[0]\n",
        "\n",
        "# Target name mapping\n",
        "target_names = {0: \"Setosa\", 1: \"Versicolor\", 2: \"Virginica\"}\n",
        "\n",
        "st.subheader(\"Prediction\")\n",
        "st.success(f\"Predicted Iris Species: **{target_names[prediction]}**\")\n",
        "\n",
        "# Probabilities\n",
        "st.subheader(\"Prediction Probabilities\")\n",
        "proba_df = pd.DataFrame([prediction_proba], columns=target_names.values())\n",
        "st.bar_chart(proba_df.T)\n",
        "\n",
        "# Show input\n",
        "with st.expander(\"Input Data Used\"):\n",
        "    st.write(input_df)\n"
      ],
      "metadata": {
        "colab": {
          "base_uri": "https://localhost:8080/"
        },
        "id": "0LuNIONi1z92",
        "outputId": "4bd07160-32ba-4b31-bf11-5f9a85d5d247"
      },
      "execution_count": 3,
      "outputs": [
        {
          "output_type": "stream",
          "name": "stdout",
          "text": [
            "Writing app.py\n"
          ]
        }
      ]
    },
    {
      "cell_type": "code",
      "source": [
        "!ngrok config add-authtoken 305uUJwhOGT2SPWNDxSoPSJVzKR_q19cLojzRS11ka9EvFbp\n"
      ],
      "metadata": {
        "colab": {
          "base_uri": "https://localhost:8080/"
        },
        "id": "J1DKOi3y16FI",
        "outputId": "35fe4a7f-1530-4200-c8c0-dd6427eb8bcd"
      },
      "execution_count": 4,
      "outputs": [
        {
          "output_type": "stream",
          "name": "stdout",
          "text": [
            "Authtoken saved to configuration file: /root/.config/ngrok/ngrok.yml\n"
          ]
        }
      ]
    },
    {
      "cell_type": "code",
      "source": [
        "from pyngrok import ngrok\n",
        "\n",
        "# Kill any previous tunnels\n",
        "ngrok.kill()\n",
        "\n",
        "# Run Streamlit app in background\n",
        "!streamlit run app.py &> /content/log.txt &\n",
        "\n",
        "# Create a new tunnel\n",
        "public_url = ngrok.connect(8501, proto=\"http\")\n",
        "print(\"🔗 Streamlit app is live at:\", public_url)\n"
      ],
      "metadata": {
        "colab": {
          "base_uri": "https://localhost:8080/"
        },
        "id": "v4HQKYVc1-SJ",
        "outputId": "a6516ad7-4f05-43af-90b7-339c3bed1adc"
      },
      "execution_count": 5,
      "outputs": [
        {
          "output_type": "stream",
          "name": "stdout",
          "text": [
            "🔗 Streamlit app is live at: NgrokTunnel: \"https://694e9084e496.ngrok-free.app\" -> \"http://localhost:8501\"\n"
          ]
        }
      ]
    }
  ]
}